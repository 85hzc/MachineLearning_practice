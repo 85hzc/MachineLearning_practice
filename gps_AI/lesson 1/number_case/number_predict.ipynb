{
 "cells": [
  {
   "cell_type": "markdown",
   "metadata": {},
   "source": [
    "项目介绍：通过神经网络可以正确预测1-9等数字"
   ]
  },
  {
   "cell_type": "markdown",
   "metadata": {
    "collapsed": true
   },
   "source": [
    "首先倒入相应的包\n",
    "tensorflo后台\n",
    "keras框架\n",
    "random函数\n",
    "numpy科学计算库"
   ]
  },
  {
   "cell_type": "code",
   "execution_count": 1,
   "metadata": {
    "collapsed": true
   },
   "outputs": [],
   "source": [
    "import  tensorflow as tf\n",
    "from tensorflow import keras\n",
    "import random\n",
    "import numpy as np"
   ]
  },
  {
   "cell_type": "markdown",
   "metadata": {},
   "source": [
    "创建数据和标签的列表"
   ]
  },
  {
   "cell_type": "code",
   "execution_count": 2,
   "metadata": {
    "collapsed": true
   },
   "outputs": [],
   "source": [
    "datas=[]\n",
    "labellist=[]"
   ]
  },
  {
   "cell_type": "markdown",
   "metadata": {},
   "source": [
    "随机出五百个数据，分别放入到datas和labellist中，数据就是1-9的数字"
   ]
  },
  {
   "cell_type": "code",
   "execution_count": 3,
   "metadata": {
    "collapsed": true
   },
   "outputs": [],
   "source": [
    "for i in range(500):\n",
    "    num=random.randrange(1,10)\n",
    "    one_hot=np.zeros(shape=9)\n",
    "    one_hot[num-1]=1\n",
    "    datas.append(one_hot)\n",
    "    labellist.append(one_hot)"
   ]
  },
  {
   "cell_type": "markdown",
   "metadata": {},
   "source": [
    "keras要求输入是array的形式所以需要对list惊醒array处理"
   ]
  },
  {
   "cell_type": "code",
   "execution_count": 4,
   "metadata": {
    "collapsed": true
   },
   "outputs": [],
   "source": [
    "datas=np.array(datas)\n",
    "labellist=np.array(labellist)"
   ]
  },
  {
   "cell_type": "markdown",
   "metadata": {},
   "source": [
    "设置log的路径方便后面的网络分析"
   ]
  },
  {
   "cell_type": "code",
   "execution_count": 5,
   "metadata": {
    "collapsed": true
   },
   "outputs": [],
   "source": [
    "log_dir = './logs'\n",
    "tensorboard_callback = tf.keras.callbacks.TensorBoard(log_dir=log_dir, histogram_freq=1)"
   ]
  },
  {
   "cell_type": "markdown",
   "metadata": {},
   "source": [
    "一个三层的简单网络"
   ]
  },
  {
   "cell_type": "code",
   "execution_count": 6,
   "metadata": {
    "collapsed": true
   },
   "outputs": [],
   "source": [
    "inputs = keras.layers.Input(shape=(9,))\n",
    "x = keras.layers.Dense(64, activation='relu')(inputs)\n",
    "x = keras.layers.Dense(64, activation='relu')(x)\n",
    "predictions = keras.layers.Dense(9, activation='softmax')(x)\n",
    "model = keras.models.Model(inputs=inputs, outputs=predictions)"
   ]
  },
  {
   "cell_type": "markdown",
   "metadata": {},
   "source": [
    "训练前的参数设置"
   ]
  },
  {
   "cell_type": "code",
   "execution_count": 7,
   "metadata": {
    "collapsed": true
   },
   "outputs": [],
   "source": [
    "model.compile(optimizer='sgd',loss=tf.keras.losses.CategoricalCrossentropy() )"
   ]
  },
  {
   "cell_type": "markdown",
   "metadata": {},
   "source": [
    "训练"
   ]
  },
  {
   "cell_type": "code",
   "execution_count": 8,
   "metadata": {},
   "outputs": [
    {
     "name": "stdout",
     "output_type": "stream",
     "text": [
      "Epoch 1/100\n",
      "16/16 [==============================] - 0s 3ms/step - loss: 2.1850\n",
      "Epoch 2/100\n",
      "16/16 [==============================] - 0s 1ms/step - loss: 2.1589\n",
      "Epoch 3/100\n",
      "16/16 [==============================] - 0s 1ms/step - loss: 2.1345\n",
      "Epoch 4/100\n",
      "16/16 [==============================] - 0s 1ms/step - loss: 2.1108\n",
      "Epoch 5/100\n",
      "16/16 [==============================] - 0s 1ms/step - loss: 2.0876\n",
      "Epoch 6/100\n",
      "16/16 [==============================] - 0s 1ms/step - loss: 2.0644\n",
      "Epoch 7/100\n",
      "16/16 [==============================] - 0s 1ms/step - loss: 2.0410\n",
      "Epoch 8/100\n",
      "16/16 [==============================] - 0s 1ms/step - loss: 2.0164\n",
      "Epoch 9/100\n",
      "16/16 [==============================] - 0s 1ms/step - loss: 1.9907\n",
      "Epoch 10/100\n",
      "16/16 [==============================] - 0s 1ms/step - loss: 1.9642\n",
      "Epoch 11/100\n",
      "16/16 [==============================] - 0s 1ms/step - loss: 1.9376\n",
      "Epoch 12/100\n",
      "16/16 [==============================] - 0s 1ms/step - loss: 1.9107\n",
      "Epoch 13/100\n",
      "16/16 [==============================] - 0s 1ms/step - loss: 1.8835\n",
      "Epoch 14/100\n",
      "16/16 [==============================] - 0s 1ms/step - loss: 1.8552\n",
      "Epoch 15/100\n",
      "16/16 [==============================] - 0s 2ms/step - loss: 1.8257\n",
      "Epoch 16/100\n",
      "16/16 [==============================] - 0s 1ms/step - loss: 1.7948\n",
      "Epoch 17/100\n",
      "16/16 [==============================] - 0s 1ms/step - loss: 1.7630\n",
      "Epoch 18/100\n",
      "16/16 [==============================] - 0s 1ms/step - loss: 1.7298\n",
      "Epoch 19/100\n",
      "16/16 [==============================] - 0s 1ms/step - loss: 1.6958\n",
      "Epoch 20/100\n",
      "16/16 [==============================] - 0s 1ms/step - loss: 1.6608\n",
      "Epoch 21/100\n",
      "16/16 [==============================] - 0s 1ms/step - loss: 1.6247\n",
      "Epoch 22/100\n",
      "16/16 [==============================] - 0s 1ms/step - loss: 1.5876\n",
      "Epoch 23/100\n",
      "16/16 [==============================] - 0s 1ms/step - loss: 1.5496\n",
      "Epoch 24/100\n",
      "16/16 [==============================] - 0s 2ms/step - loss: 1.5101\n",
      "Epoch 25/100\n",
      "16/16 [==============================] - 0s 1ms/step - loss: 1.4700\n",
      "Epoch 26/100\n",
      "16/16 [==============================] - 0s 1ms/step - loss: 1.4288\n",
      "Epoch 27/100\n",
      "16/16 [==============================] - 0s 1ms/step - loss: 1.3868\n",
      "Epoch 28/100\n",
      "16/16 [==============================] - 0s 1ms/step - loss: 1.3434\n",
      "Epoch 29/100\n",
      "16/16 [==============================] - 0s 1ms/step - loss: 1.2991\n",
      "Epoch 30/100\n",
      "16/16 [==============================] - 0s 1ms/step - loss: 1.2540\n",
      "Epoch 31/100\n",
      "16/16 [==============================] - 0s 1ms/step - loss: 1.2088\n",
      "Epoch 32/100\n",
      "16/16 [==============================] - 0s 1ms/step - loss: 1.1637\n",
      "Epoch 33/100\n",
      "16/16 [==============================] - 0s 2ms/step - loss: 1.1186\n",
      "Epoch 34/100\n",
      "16/16 [==============================] - 0s 1ms/step - loss: 1.0730\n",
      "Epoch 35/100\n",
      "16/16 [==============================] - 0s 1ms/step - loss: 1.0282\n",
      "Epoch 36/100\n",
      "16/16 [==============================] - 0s 1ms/step - loss: 0.9837\n",
      "Epoch 37/100\n",
      "16/16 [==============================] - 0s 1ms/step - loss: 0.9395\n",
      "Epoch 38/100\n",
      "16/16 [==============================] - 0s 1ms/step - loss: 0.8957\n",
      "Epoch 39/100\n",
      "16/16 [==============================] - 0s 1ms/step - loss: 0.8526\n",
      "Epoch 40/100\n",
      "16/16 [==============================] - 0s 1ms/step - loss: 0.8104\n",
      "Epoch 41/100\n",
      "16/16 [==============================] - 0s 1ms/step - loss: 0.7692\n",
      "Epoch 42/100\n",
      "16/16 [==============================] - 0s 1ms/step - loss: 0.7291\n",
      "Epoch 43/100\n",
      "16/16 [==============================] - 0s 2ms/step - loss: 0.6905\n",
      "Epoch 44/100\n",
      "16/16 [==============================] - 0s 2ms/step - loss: 0.6531\n",
      "Epoch 45/100\n",
      "16/16 [==============================] - 0s 1ms/step - loss: 0.6173\n",
      "Epoch 46/100\n",
      "16/16 [==============================] - 0s 1ms/step - loss: 0.5829\n",
      "Epoch 47/100\n",
      "16/16 [==============================] - 0s 1ms/step - loss: 0.5502\n",
      "Epoch 48/100\n",
      "16/16 [==============================] - 0s 2ms/step - loss: 0.5192\n",
      "Epoch 49/100\n",
      "16/16 [==============================] - 0s 2ms/step - loss: 0.4897\n",
      "Epoch 50/100\n",
      "16/16 [==============================] - 0s 1ms/step - loss: 0.4622\n",
      "Epoch 51/100\n",
      "16/16 [==============================] - 0s 2ms/step - loss: 0.4360\n",
      "Epoch 52/100\n",
      "16/16 [==============================] - 0s 2ms/step - loss: 0.4114\n",
      "Epoch 53/100\n",
      "16/16 [==============================] - 0s 1ms/step - loss: 0.3883\n",
      "Epoch 54/100\n",
      "16/16 [==============================] - 0s 2ms/step - loss: 0.3664\n",
      "Epoch 55/100\n",
      "16/16 [==============================] - 0s 2ms/step - loss: 0.3461\n",
      "Epoch 56/100\n",
      "16/16 [==============================] - 0s 1ms/step - loss: 0.3269\n",
      "Epoch 57/100\n",
      "16/16 [==============================] - 0s 2ms/step - loss: 0.3089\n",
      "Epoch 58/100\n",
      "16/16 [==============================] - 0s 2ms/step - loss: 0.2922\n",
      "Epoch 59/100\n",
      "16/16 [==============================] - 0s 1ms/step - loss: 0.2765\n",
      "Epoch 60/100\n",
      "16/16 [==============================] - 0s 2ms/step - loss: 0.2619\n",
      "Epoch 61/100\n",
      "16/16 [==============================] - 0s 2ms/step - loss: 0.2482\n",
      "Epoch 62/100\n",
      "16/16 [==============================] - 0s 2ms/step - loss: 0.2354\n",
      "Epoch 63/100\n",
      "16/16 [==============================] - 0s 2ms/step - loss: 0.2235\n",
      "Epoch 64/100\n",
      "16/16 [==============================] - 0s 2ms/step - loss: 0.2123\n",
      "Epoch 65/100\n",
      "16/16 [==============================] - 0s 2ms/step - loss: 0.2018\n",
      "Epoch 66/100\n",
      "16/16 [==============================] - 0s 2ms/step - loss: 0.1921\n",
      "Epoch 67/100\n",
      "16/16 [==============================] - 0s 2ms/step - loss: 0.1831\n",
      "Epoch 68/100\n",
      "16/16 [==============================] - 0s 2ms/step - loss: 0.1746\n",
      "Epoch 69/100\n",
      "16/16 [==============================] - 0s 2ms/step - loss: 0.1666\n",
      "Epoch 70/100\n",
      "16/16 [==============================] - 0s 2ms/step - loss: 0.1592\n",
      "Epoch 71/100\n",
      "16/16 [==============================] - 0s 2ms/step - loss: 0.1522\n",
      "Epoch 72/100\n",
      "16/16 [==============================] - 0s 2ms/step - loss: 0.1457\n",
      "Epoch 73/100\n",
      "16/16 [==============================] - 0s 2ms/step - loss: 0.1395\n",
      "Epoch 74/100\n",
      "16/16 [==============================] - 0s 2ms/step - loss: 0.1338\n",
      "Epoch 75/100\n",
      "16/16 [==============================] - 0s 2ms/step - loss: 0.1283\n",
      "Epoch 76/100\n",
      "16/16 [==============================] - 0s 2ms/step - loss: 0.1233\n",
      "Epoch 77/100\n",
      "16/16 [==============================] - 0s 2ms/step - loss: 0.1185\n",
      "Epoch 78/100\n",
      "16/16 [==============================] - 0s 2ms/step - loss: 0.1140\n",
      "Epoch 79/100\n",
      "16/16 [==============================] - 0s 2ms/step - loss: 0.1097\n",
      "Epoch 80/100\n",
      "16/16 [==============================] - 0s 2ms/step - loss: 0.1057\n",
      "Epoch 81/100\n",
      "16/16 [==============================] - 0s 2ms/step - loss: 0.1019\n",
      "Epoch 82/100\n",
      "16/16 [==============================] - 0s 2ms/step - loss: 0.0984\n",
      "Epoch 83/100\n",
      "16/16 [==============================] - 0s 2ms/step - loss: 0.0950\n",
      "Epoch 84/100\n",
      "16/16 [==============================] - 0s 2ms/step - loss: 0.0918\n",
      "Epoch 85/100\n",
      "16/16 [==============================] - 0s 2ms/step - loss: 0.0888\n",
      "Epoch 86/100\n",
      "16/16 [==============================] - 0s 1ms/step - loss: 0.0859\n",
      "Epoch 87/100\n",
      "16/16 [==============================] - 0s 2ms/step - loss: 0.0831\n",
      "Epoch 88/100\n",
      "16/16 [==============================] - 0s 2ms/step - loss: 0.0805\n",
      "Epoch 89/100\n",
      "16/16 [==============================] - 0s 2ms/step - loss: 0.0781\n",
      "Epoch 90/100\n",
      "16/16 [==============================] - 0s 2ms/step - loss: 0.0757\n",
      "Epoch 91/100\n",
      "16/16 [==============================] - 0s 2ms/step - loss: 0.0735\n",
      "Epoch 92/100\n",
      "16/16 [==============================] - 0s 2ms/step - loss: 0.0714\n",
      "Epoch 93/100\n",
      "16/16 [==============================] - 0s 2ms/step - loss: 0.0693\n",
      "Epoch 94/100\n",
      "16/16 [==============================] - 0s 2ms/step - loss: 0.0674\n",
      "Epoch 95/100\n",
      "16/16 [==============================] - 0s 2ms/step - loss: 0.0655\n",
      "Epoch 96/100\n",
      "16/16 [==============================] - 0s 2ms/step - loss: 0.0638\n",
      "Epoch 97/100\n",
      "16/16 [==============================] - 0s 2ms/step - loss: 0.0621\n",
      "Epoch 98/100\n",
      "16/16 [==============================] - 0s 2ms/step - loss: 0.0605\n",
      "Epoch 99/100\n",
      "16/16 [==============================] - 0s 2ms/step - loss: 0.0589\n",
      "Epoch 100/100\n",
      "16/16 [==============================] - 0s 2ms/step - loss: 0.0574\n"
     ]
    },
    {
     "data": {
      "text/plain": [
       "<tensorflow.python.keras.callbacks.History at 0x142e4de48>"
      ]
     },
     "execution_count": 8,
     "metadata": {},
     "output_type": "execute_result"
    }
   ],
   "source": [
    "model.fit(datas, labellist,epochs=100,\n",
    "              verbose=1,callbacks=[tensorboard_callback])"
   ]
  },
  {
   "cell_type": "markdown",
   "metadata": {},
   "source": [
    "预测结果"
   ]
  },
  {
   "cell_type": "code",
   "execution_count": 9,
   "metadata": {},
   "outputs": [
    {
     "name": "stdout",
     "output_type": "stream",
     "text": [
      "predict num is 3 ,real num is 3\n",
      "predict num is 9 ,real num is 9\n",
      "predict num is 4 ,real num is 4\n",
      "predict num is 7 ,real num is 7\n",
      "predict num is 4 ,real num is 4\n",
      "predict num is 1 ,real num is 1\n",
      "predict num is 2 ,real num is 2\n",
      "predict num is 5 ,real num is 5\n",
      "predict num is 4 ,real num is 4\n",
      "predict num is 5 ,real num is 5\n"
     ]
    }
   ],
   "source": [
    "for i in range(10):\n",
    "    num=random.randrange(0, 499)\n",
    "    real_num=np.argmax(datas[num])+1\n",
    "    input=datas[num]\n",
    "    predict=np.argmax(model.predict(np.expand_dims(input, axis=0))) + 1\n",
    "    print(\"predict num is %d ,real num is %d\"% (predict,real_num))"
   ]
  },
  {
   "cell_type": "code",
   "execution_count": null,
   "metadata": {
    "collapsed": true
   },
   "outputs": [],
   "source": []
  }
 ],
 "metadata": {
  "hide_input": false,
  "kernelspec": {
   "display_name": "Python 3",
   "language": "python",
   "name": "python3"
  },
  "language_info": {
   "codemirror_mode": {
    "name": "ipython",
    "version": 3
   },
   "file_extension": ".py",
   "mimetype": "text/x-python",
   "name": "python",
   "nbconvert_exporter": "python",
   "pygments_lexer": "ipython3",
   "version": "3.6.2"
  },
  "toc": {
   "base_numbering": 1,
   "nav_menu": {},
   "number_sections": true,
   "sideBar": true,
   "skip_h1_title": false,
   "title_cell": "Table of Contents",
   "title_sidebar": "Contents",
   "toc_cell": false,
   "toc_position": {},
   "toc_section_display": true,
   "toc_window_display": false
  }
 },
 "nbformat": 4,
 "nbformat_minor": 1
}
