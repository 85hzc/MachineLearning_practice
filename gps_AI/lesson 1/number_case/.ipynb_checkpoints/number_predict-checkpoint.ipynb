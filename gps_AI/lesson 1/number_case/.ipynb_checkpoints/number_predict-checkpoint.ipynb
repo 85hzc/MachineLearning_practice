{
 "cells": [
  {
   "cell_type": "markdown",
   "metadata": {},
   "source": [
    "项目介绍：通过神经网络可以正确预测1-9等数字"
   ]
  },
  {
   "cell_type": "markdown",
   "metadata": {
    "collapsed": true
   },
   "source": [
    "首先倒入相应的包\n",
    "tensorflo后台\n",
    "keras框架\n",
    "random函数\n",
    "numpy科学计算库"
   ]
  },
  {
   "cell_type": "code",
   "execution_count": 4,
   "metadata": {
    "collapsed": true
   },
   "outputs": [],
   "source": [
    "import tensorflow as tf\n",
    "from tensorflow import keras\n",
    "import random\n",
    "import numpy as np"
   ]
  },
  {
   "cell_type": "markdown",
   "metadata": {},
   "source": [
    "创建数据和标签的列表"
   ]
  },
  {
   "cell_type": "code",
   "execution_count": 5,
   "metadata": {
    "collapsed": true
   },
   "outputs": [],
   "source": [
    "datas=[]\n",
    "labellist=[]"
   ]
  },
  {
   "cell_type": "markdown",
   "metadata": {},
   "source": [
    "随机出五百个数据，分别放入到datas和labellist中，数据就是1-9的数字"
   ]
  },
  {
   "cell_type": "code",
   "execution_count": 6,
   "metadata": {
    "collapsed": true
   },
   "outputs": [],
   "source": [
    "for i in range(500):\n",
    "    num=random.randrange(1,10)\n",
    "    one_hot=np.zeros(shape=9)\n",
    "    one_hot[num-1]=1\n",
    "    datas.append(one_hot)\n",
    "    labellist.append(one_hot)"
   ]
  },
  {
   "cell_type": "markdown",
   "metadata": {},
   "source": [
    "keras要求输入是array的形式所以需要对list进行array处理"
   ]
  },
  {
   "cell_type": "code",
   "execution_count": 7,
   "metadata": {
    "collapsed": true
   },
   "outputs": [],
   "source": [
    "datas=np.array(datas)\n",
    "labellist=np.array(labellist)"
   ]
  },
  {
   "cell_type": "markdown",
   "metadata": {},
   "source": [
    "设置log的路径方便后面的网络分析"
   ]
  },
  {
   "cell_type": "code",
   "execution_count": 8,
   "metadata": {
    "collapsed": true
   },
   "outputs": [],
   "source": [
    "log_dir = './logs'\n",
    "tensorboard_callback = tf.keras.callbacks.TensorBoard(log_dir=log_dir, histogram_freq=1)"
   ]
  },
  {
   "cell_type": "markdown",
   "metadata": {},
   "source": [
    "一个三层的简单网络"
   ]
  },
  {
   "cell_type": "code",
   "execution_count": 9,
   "metadata": {
    "collapsed": true
   },
   "outputs": [],
   "source": [
    "inputs = keras.layers.Input(shape=(9,))\n",
    "x = keras.layers.Dense(64, activation='relu')(inputs)\n",
    "x = keras.layers.Dense(64, activation='relu')(x)\n",
    "predictions = keras.layers.Dense(9, activation='softmax')(x)\n",
    "model = keras.models.Model(inputs=inputs, outputs=predictions)"
   ]
  },
  {
   "cell_type": "markdown",
   "metadata": {},
   "source": [
    "训练前的参数设置"
   ]
  },
  {
   "cell_type": "code",
   "execution_count": 10,
   "metadata": {
    "collapsed": true
   },
   "outputs": [],
   "source": [
    "model.compile(optimizer='sgd',loss=tf.keras.losses.CategoricalCrossentropy() )"
   ]
  },
  {
   "cell_type": "markdown",
   "metadata": {},
   "source": [
    "训练"
   ]
  },
  {
   "cell_type": "code",
   "execution_count": 11,
   "metadata": {},
   "outputs": [
    {
     "name": "stdout",
     "output_type": "stream",
     "text": [
      "Epoch 1/100\n",
      "16/16 [==============================] - 0s 2ms/step - loss: 2.2307\n",
      "Epoch 2/100\n",
      "16/16 [==============================] - 0s 2ms/step - loss: 2.1978\n",
      "Epoch 3/100\n",
      "16/16 [==============================] - 0s 2ms/step - loss: 2.1679\n",
      "Epoch 4/100\n",
      "16/16 [==============================] - 0s 2ms/step - loss: 2.1406\n",
      "Epoch 5/100\n",
      "16/16 [==============================] - 0s 2ms/step - loss: 2.1151\n",
      "Epoch 6/100\n",
      "16/16 [==============================] - 0s 2ms/step - loss: 2.0909\n",
      "Epoch 7/100\n",
      "16/16 [==============================] - 0s 2ms/step - loss: 2.0688\n",
      "Epoch 8/100\n",
      "16/16 [==============================] - 0s 2ms/step - loss: 2.0474\n",
      "Epoch 9/100\n",
      "16/16 [==============================] - 0s 2ms/step - loss: 2.0263\n",
      "Epoch 10/100\n",
      "16/16 [==============================] - 0s 2ms/step - loss: 2.0056\n",
      "Epoch 11/100\n",
      "16/16 [==============================] - 0s 2ms/step - loss: 1.9852\n",
      "Epoch 12/100\n",
      "16/16 [==============================] - 0s 2ms/step - loss: 1.9646\n",
      "Epoch 13/100\n",
      "16/16 [==============================] - 0s 2ms/step - loss: 1.9438\n",
      "Epoch 14/100\n",
      "16/16 [==============================] - 0s 2ms/step - loss: 1.9227\n",
      "Epoch 15/100\n",
      "16/16 [==============================] - 0s 2ms/step - loss: 1.9011\n",
      "Epoch 16/100\n",
      "16/16 [==============================] - 0s 2ms/step - loss: 1.8788\n",
      "Epoch 17/100\n",
      "16/16 [==============================] - 0s 2ms/step - loss: 1.8559\n",
      "Epoch 18/100\n",
      "16/16 [==============================] - 0s 2ms/step - loss: 1.8323\n",
      "Epoch 19/100\n",
      "16/16 [==============================] - 0s 2ms/step - loss: 1.8077\n",
      "Epoch 20/100\n",
      "16/16 [==============================] - 0s 2ms/step - loss: 1.7826\n",
      "Epoch 21/100\n",
      "16/16 [==============================] - 0s 2ms/step - loss: 1.7565\n",
      "Epoch 22/100\n",
      "16/16 [==============================] - 0s 2ms/step - loss: 1.7296\n",
      "Epoch 23/100\n",
      "16/16 [==============================] - 0s 2ms/step - loss: 1.7015\n",
      "Epoch 24/100\n",
      "16/16 [==============================] - 0s 2ms/step - loss: 1.6727\n",
      "Epoch 25/100\n",
      "16/16 [==============================] - 0s 2ms/step - loss: 1.6425\n",
      "Epoch 26/100\n",
      "16/16 [==============================] - 0s 2ms/step - loss: 1.6115\n",
      "Epoch 27/100\n",
      "16/16 [==============================] - 0s 2ms/step - loss: 1.5796\n",
      "Epoch 28/100\n",
      "16/16 [==============================] - 0s 2ms/step - loss: 1.5469\n",
      "Epoch 29/100\n",
      "16/16 [==============================] - 0s 2ms/step - loss: 1.5131\n",
      "Epoch 30/100\n",
      "16/16 [==============================] - 0s 2ms/step - loss: 1.4783\n",
      "Epoch 31/100\n",
      "16/16 [==============================] - 0s 3ms/step - loss: 1.4425\n",
      "Epoch 32/100\n",
      "16/16 [==============================] - 0s 2ms/step - loss: 1.4056\n",
      "Epoch 33/100\n",
      "16/16 [==============================] - 0s 2ms/step - loss: 1.3681\n",
      "Epoch 34/100\n",
      "16/16 [==============================] - 0s 2ms/step - loss: 1.3297\n",
      "Epoch 35/100\n",
      "16/16 [==============================] - 0s 3ms/step - loss: 1.2904\n",
      "Epoch 36/100\n",
      "16/16 [==============================] - 0s 2ms/step - loss: 1.2505\n",
      "Epoch 37/100\n",
      "16/16 [==============================] - 0s 2ms/step - loss: 1.2102\n",
      "Epoch 38/100\n",
      "16/16 [==============================] - 0s 2ms/step - loss: 1.1694\n",
      "Epoch 39/100\n",
      "16/16 [==============================] - 0s 2ms/step - loss: 1.1285\n",
      "Epoch 40/100\n",
      "16/16 [==============================] - 0s 2ms/step - loss: 1.0873\n",
      "Epoch 41/100\n",
      "16/16 [==============================] - 0s 2ms/step - loss: 1.0460\n",
      "Epoch 42/100\n",
      "16/16 [==============================] - 0s 2ms/step - loss: 1.0046\n",
      "Epoch 43/100\n",
      "16/16 [==============================] - 0s 2ms/step - loss: 0.9632\n",
      "Epoch 44/100\n",
      "16/16 [==============================] - 0s 2ms/step - loss: 0.9222\n",
      "Epoch 45/100\n",
      "16/16 [==============================] - 0s 2ms/step - loss: 0.8819\n",
      "Epoch 46/100\n",
      "16/16 [==============================] - 0s 2ms/step - loss: 0.8423\n",
      "Epoch 47/100\n",
      "16/16 [==============================] - 0s 2ms/step - loss: 0.8036\n",
      "Epoch 48/100\n",
      "16/16 [==============================] - 0s 2ms/step - loss: 0.7653\n",
      "Epoch 49/100\n",
      "16/16 [==============================] - 0s 2ms/step - loss: 0.7284\n",
      "Epoch 50/100\n",
      "16/16 [==============================] - 0s 2ms/step - loss: 0.6920\n",
      "Epoch 51/100\n",
      "16/16 [==============================] - 0s 2ms/step - loss: 0.6568\n",
      "Epoch 52/100\n",
      "16/16 [==============================] - 0s 2ms/step - loss: 0.6227\n",
      "Epoch 53/100\n",
      "16/16 [==============================] - 0s 2ms/step - loss: 0.5899\n",
      "Epoch 54/100\n",
      "16/16 [==============================] - 0s 2ms/step - loss: 0.5586\n",
      "Epoch 55/100\n",
      "16/16 [==============================] - 0s 2ms/step - loss: 0.5284\n",
      "Epoch 56/100\n",
      "16/16 [==============================] - 0s 2ms/step - loss: 0.4996\n",
      "Epoch 57/100\n",
      "16/16 [==============================] - 0s 2ms/step - loss: 0.4721\n",
      "Epoch 58/100\n",
      "16/16 [==============================] - 0s 2ms/step - loss: 0.4458\n",
      "Epoch 59/100\n",
      "16/16 [==============================] - 0s 1ms/step - loss: 0.4209\n",
      "Epoch 60/100\n",
      "16/16 [==============================] - 0s 2ms/step - loss: 0.3973\n",
      "Epoch 61/100\n",
      "16/16 [==============================] - 0s 2ms/step - loss: 0.3752\n",
      "Epoch 62/100\n",
      "16/16 [==============================] - 0s 2ms/step - loss: 0.3543\n",
      "Epoch 63/100\n",
      "16/16 [==============================] - 0s 2ms/step - loss: 0.3348\n",
      "Epoch 64/100\n",
      "16/16 [==============================] - 0s 2ms/step - loss: 0.3165\n",
      "Epoch 65/100\n",
      "16/16 [==============================] - 0s 2ms/step - loss: 0.2994\n",
      "Epoch 66/100\n",
      "16/16 [==============================] - 0s 2ms/step - loss: 0.2834\n",
      "Epoch 67/100\n",
      "16/16 [==============================] - 0s 2ms/step - loss: 0.2683\n",
      "Epoch 68/100\n",
      "16/16 [==============================] - 0s 1ms/step - loss: 0.2542\n",
      "Epoch 69/100\n",
      "16/16 [==============================] - 0s 2ms/step - loss: 0.2411\n",
      "Epoch 70/100\n",
      "16/16 [==============================] - 0s 1ms/step - loss: 0.2288\n",
      "Epoch 71/100\n",
      "16/16 [==============================] - 0s 1ms/step - loss: 0.2173\n",
      "Epoch 72/100\n",
      "16/16 [==============================] - 0s 2ms/step - loss: 0.2066\n",
      "Epoch 73/100\n",
      "16/16 [==============================] - 0s 1ms/step - loss: 0.1966\n",
      "Epoch 74/100\n",
      "16/16 [==============================] - 0s 1ms/step - loss: 0.1872\n",
      "Epoch 75/100\n",
      "16/16 [==============================] - 0s 1ms/step - loss: 0.1785\n",
      "Epoch 76/100\n",
      "16/16 [==============================] - 0s 2ms/step - loss: 0.1703\n",
      "Epoch 77/100\n",
      "16/16 [==============================] - 0s 1ms/step - loss: 0.1627\n",
      "Epoch 78/100\n",
      "16/16 [==============================] - 0s 1ms/step - loss: 0.1555\n",
      "Epoch 79/100\n",
      "16/16 [==============================] - 0s 2ms/step - loss: 0.1489\n",
      "Epoch 80/100\n",
      "16/16 [==============================] - 0s 2ms/step - loss: 0.1426\n",
      "Epoch 81/100\n",
      "16/16 [==============================] - 0s 2ms/step - loss: 0.1367\n",
      "Epoch 82/100\n",
      "16/16 [==============================] - 0s 2ms/step - loss: 0.1312\n",
      "Epoch 83/100\n",
      "16/16 [==============================] - 0s 2ms/step - loss: 0.1260\n",
      "Epoch 84/100\n",
      "16/16 [==============================] - 0s 2ms/step - loss: 0.1211\n",
      "Epoch 85/100\n",
      "16/16 [==============================] - 0s 2ms/step - loss: 0.1165\n",
      "Epoch 86/100\n",
      "16/16 [==============================] - 0s 2ms/step - loss: 0.1122\n",
      "Epoch 87/100\n",
      "16/16 [==============================] - 0s 2ms/step - loss: 0.1081\n",
      "Epoch 88/100\n",
      "16/16 [==============================] - 0s 2ms/step - loss: 0.1042\n",
      "Epoch 89/100\n",
      "16/16 [==============================] - 0s 2ms/step - loss: 0.1006\n",
      "Epoch 90/100\n",
      "16/16 [==============================] - 0s 2ms/step - loss: 0.0971\n",
      "Epoch 91/100\n",
      "16/16 [==============================] - 0s 2ms/step - loss: 0.0938\n",
      "Epoch 92/100\n",
      "16/16 [==============================] - 0s 2ms/step - loss: 0.0908\n",
      "Epoch 93/100\n",
      "16/16 [==============================] - 0s 2ms/step - loss: 0.0878\n",
      "Epoch 94/100\n",
      "16/16 [==============================] - 0s 2ms/step - loss: 0.0850\n",
      "Epoch 95/100\n",
      "16/16 [==============================] - 0s 2ms/step - loss: 0.0824\n",
      "Epoch 96/100\n",
      "16/16 [==============================] - 0s 2ms/step - loss: 0.0799\n",
      "Epoch 97/100\n",
      "16/16 [==============================] - 0s 2ms/step - loss: 0.0775\n",
      "Epoch 98/100\n",
      "16/16 [==============================] - 0s 2ms/step - loss: 0.0752\n",
      "Epoch 99/100\n",
      "16/16 [==============================] - 0s 2ms/step - loss: 0.0731\n",
      "Epoch 100/100\n",
      "16/16 [==============================] - 0s 2ms/step - loss: 0.0710\n"
     ]
    },
    {
     "data": {
      "text/plain": [
       "<tensorflow.python.keras.callbacks.History at 0x13b4612e8>"
      ]
     },
     "execution_count": 11,
     "metadata": {},
     "output_type": "execute_result"
    }
   ],
   "source": [
    "model.fit(datas, labellist,epochs=100,\n",
    "              verbose=1,callbacks=[tensorboard_callback])"
   ]
  },
  {
   "cell_type": "markdown",
   "metadata": {},
   "source": [
    "预测结果"
   ]
  },
  {
   "cell_type": "code",
   "execution_count": 12,
   "metadata": {},
   "outputs": [
    {
     "name": "stdout",
     "output_type": "stream",
     "text": [
      "predict num is 8 ,real num is 8\n",
      "predict num is 2 ,real num is 2\n",
      "predict num is 6 ,real num is 6\n",
      "predict num is 7 ,real num is 7\n",
      "predict num is 5 ,real num is 5\n",
      "predict num is 1 ,real num is 1\n",
      "predict num is 5 ,real num is 5\n",
      "predict num is 5 ,real num is 5\n",
      "predict num is 7 ,real num is 7\n",
      "predict num is 4 ,real num is 4\n"
     ]
    }
   ],
   "source": [
    "for i in range(10):\n",
    "    num=random.randrange(0, 499)\n",
    "    real_num=np.argmax(datas[num])+1\n",
    "    input=datas[num]\n",
    "    predict=np.argmax(model.predict(np.expand_dims(input, axis=0))) + 1\n",
    "    print(\"predict num is %d ,real num is %d\"% (predict,real_num))"
   ]
  },
  {
   "cell_type": "code",
   "execution_count": null,
   "metadata": {
    "collapsed": true
   },
   "outputs": [],
   "source": []
  }
 ],
 "metadata": {
  "hide_input": false,
  "kernelspec": {
   "display_name": "Python 3",
   "language": "python",
   "name": "python3"
  },
  "language_info": {
   "codemirror_mode": {
    "name": "ipython",
    "version": 3
   },
   "file_extension": ".py",
   "mimetype": "text/x-python",
   "name": "python",
   "nbconvert_exporter": "python",
   "pygments_lexer": "ipython3",
   "version": "3.6.2"
  },
  "toc": {
   "base_numbering": 1,
   "nav_menu": {},
   "number_sections": true,
   "sideBar": true,
   "skip_h1_title": false,
   "title_cell": "Table of Contents",
   "title_sidebar": "Contents",
   "toc_cell": false,
   "toc_position": {},
   "toc_section_display": true,
   "toc_window_display": false
  }
 },
 "nbformat": 4,
 "nbformat_minor": 1
}
